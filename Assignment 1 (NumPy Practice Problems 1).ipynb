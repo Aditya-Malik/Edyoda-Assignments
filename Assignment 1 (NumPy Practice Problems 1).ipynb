{
 "cells": [
  {
   "cell_type": "markdown",
   "metadata": {},
   "source": [
    "# NumPy Practice Problems"
   ]
  },
  {
   "cell_type": "code",
   "execution_count": 3,
   "metadata": {},
   "outputs": [],
   "source": [
    "#Importing numpy package\n",
    "import numpy as np"
   ]
  },
  {
   "cell_type": "markdown",
   "metadata": {},
   "source": [
    "TASK 1 :\n",
    "Create a null vector of size 10 but the fifth value which is 1."
   ]
  },
  {
   "cell_type": "code",
   "execution_count": 28,
   "metadata": {},
   "outputs": [
    {
     "name": "stdout",
     "output_type": "stream",
     "text": [
      "Original array:  [0 0 0 0 0 0 0 0 0 0]\n",
      "Updated array:   [0 0 0 0 1 0 0 0 0 0]\n"
     ]
    }
   ],
   "source": [
    "arr = np.zeros(10,dtype=int)\n",
    "print(\"Original array: \",arr)\n",
    "\n",
    "arr[4] = 1\n",
    "print(\"Updated array:  \",arr)"
   ]
  },
  {
   "cell_type": "markdown",
   "metadata": {},
   "source": [
    "TASK 2: Create a vector with values ranging from 10 to 49."
   ]
  },
  {
   "cell_type": "code",
   "execution_count": 33,
   "metadata": {},
   "outputs": [
    {
     "data": {
      "text/plain": [
       "array([10, 11, 12, 13, 14, 15, 16, 17, 18, 19, 20, 21, 22, 23, 24, 25, 26,\n",
       "       27, 28, 29, 30, 31, 32, 33, 34, 35, 36, 37, 38, 39, 40, 41, 42, 43,\n",
       "       44, 45, 46, 47, 48, 49])"
      ]
     },
     "execution_count": 33,
     "metadata": {},
     "output_type": "execute_result"
    }
   ],
   "source": [
    "np.arange(start=10,stop=50)"
   ]
  },
  {
   "cell_type": "markdown",
   "metadata": {},
   "source": [
    "TASK 3: Create a 3x3 matrix with values ranging from 0 to 8"
   ]
  },
  {
   "cell_type": "code",
   "execution_count": 12,
   "metadata": {},
   "outputs": [
    {
     "data": {
      "text/plain": [
       "array([[7, 6, 1],\n",
       "       [1, 3, 4],\n",
       "       [0, 2, 6]])"
      ]
     },
     "execution_count": 12,
     "metadata": {},
     "output_type": "execute_result"
    }
   ],
   "source": [
    "np.random.randint(low=0,high=8,size=(3,3))"
   ]
  },
  {
   "cell_type": "markdown",
   "metadata": {},
   "source": [
    "TASK 4: Find indices of non-zero elements from [1,2,0,0,4,0]"
   ]
  },
  {
   "cell_type": "code",
   "execution_count": 35,
   "metadata": {},
   "outputs": [
    {
     "data": {
      "text/plain": [
       "(array([0, 1, 4], dtype=int64),)"
      ]
     },
     "execution_count": 35,
     "metadata": {},
     "output_type": "execute_result"
    }
   ],
   "source": [
    "arr = np.array([1,2,0,0,4,0])\n",
    "np.nonzero(arr)"
   ]
  },
  {
   "cell_type": "markdown",
   "metadata": {},
   "source": [
    "TASK 5: Create a 10x10 array with random values and find the minimum and maximum values."
   ]
  },
  {
   "cell_type": "code",
   "execution_count": 14,
   "metadata": {},
   "outputs": [
    {
     "name": "stdout",
     "output_type": "stream",
     "text": [
      "[[-6.48777895e-01  1.03014599e+00 -1.41003257e+00 -1.43406345e-01\n",
      "  -8.22412684e-01 -4.40287672e-01  1.59890303e+00  1.98809577e-01\n",
      "   1.39824123e+00  2.53247147e-01]\n",
      " [-1.23669346e+00  1.09281458e+00 -2.58984752e+00  2.15736924e-01\n",
      "  -1.35256702e+00 -1.34853869e+00  1.18628674e+00  6.46215608e-01\n",
      "   4.52091312e-01  6.84089198e-01]\n",
      " [ 7.14796173e-01 -5.33116340e-02 -1.53657931e+00 -9.69585255e-01\n",
      "  -1.16588171e+00 -3.56153868e-01 -1.01770608e+00  1.54792733e+00\n",
      "   1.03440594e+00  9.67840818e-01]\n",
      " [ 6.85487470e-01 -6.83392646e-01  1.94556058e-01  7.06590688e-01\n",
      "   1.35477808e+00 -2.50472373e-01 -1.65895733e+00  1.16593531e+00\n",
      "   6.70192590e-01  4.57293518e-01]\n",
      " [ 2.89421757e+00 -1.16409764e+00  9.15112951e-02 -1.12196555e+00\n",
      "  -1.85872087e+00  8.70099210e-01  8.13972123e-02 -4.52020271e-01\n",
      "   2.46308125e-02 -9.23194406e-01]\n",
      " [ 1.11723563e+00  1.07470650e+00  4.68042627e-01 -7.97441326e-01\n",
      "  -8.26147881e-02 -3.28852592e-01  9.05018564e-02 -1.41945856e+00\n",
      "  -1.43727240e+00  3.40491433e-01]\n",
      " [-1.19905690e+00  4.53203373e-01 -5.72229940e-01  4.54821052e-01\n",
      "  -2.45310434e-01  1.48802785e-01 -8.17849526e-01 -2.62653002e-01\n",
      "   6.70701619e-01  6.33246808e-01]\n",
      " [-1.31298159e+00 -2.08420896e+00 -1.74685655e+00  1.29973609e+00\n",
      "   5.28788313e-01  1.00127278e+00 -8.61703752e-01 -1.25116346e+00\n",
      "   7.66565815e-01 -2.07894788e+00]\n",
      " [-4.69292814e-01  1.31216885e+00 -2.82523469e-03  4.27959406e-01\n",
      "   1.80509469e+00  1.32449847e+00 -8.17706210e-01 -1.25161589e+00\n",
      "  -7.16563241e-01 -2.34025435e-01]\n",
      " [-6.75453526e-01 -5.19040236e-01 -1.03639419e+00  4.15808950e-01\n",
      "  -4.40369795e-01  9.52438616e-01  2.42416585e-01  4.76767107e-01\n",
      "  -5.27798433e-01  9.17806211e-01]]\n",
      "\n",
      "\n",
      "-2.5898475210236658\n",
      "\n",
      "\n",
      "2.894217573678095\n"
     ]
    }
   ],
   "source": [
    "arr = np.random.randn(10,10)\n",
    "print(arr)\n",
    "print(\"\\n\")\n",
    "\n",
    "min = arr.min()\n",
    "print(min)\n",
    "print(\"\\n\")\n",
    "\n",
    "max = arr.max()\n",
    "print(max)"
   ]
  },
  {
   "cell_type": "markdown",
   "metadata": {},
   "source": [
    "TASK 6: Create a random vector of size 30 and find the mean value."
   ]
  },
  {
   "cell_type": "code",
   "execution_count": 32,
   "metadata": {},
   "outputs": [
    {
     "name": "stdout",
     "output_type": "stream",
     "text": [
      "[0.46042534 0.1935763  0.49719081 0.13620169 0.60512925 0.51322728\n",
      " 0.87039879 0.45019384 0.78469015 0.26114063 0.24071867 0.24478186\n",
      " 0.28381347 0.86388298 0.79149858 0.80926096 0.02974528 0.05145182\n",
      " 0.25426492 0.89424986 0.73388786 0.31617652 0.83448689 0.51305323\n",
      " 0.52958814 0.65332688 0.03649002 0.5413209  0.30201807 0.91063546]\n",
      "\n",
      "\n",
      "Mean of array is: 0.4868942144724182\n"
     ]
    }
   ],
   "source": [
    "arr = np.random.rand(30)\n",
    "print(arr)\n",
    "print(\"\\n\")\n",
    "\n",
    "mean = np.mean(arr)\n",
    "print(\"Mean of array is:\",mean)"
   ]
  }
 ],
 "metadata": {
  "kernelspec": {
   "display_name": "Python 3",
   "language": "python",
   "name": "python3"
  },
  "language_info": {
   "codemirror_mode": {
    "name": "ipython",
    "version": 3
   },
   "file_extension": ".py",
   "mimetype": "text/x-python",
   "name": "python",
   "nbconvert_exporter": "python",
   "pygments_lexer": "ipython3",
   "version": "3.8.3"
  }
 },
 "nbformat": 4,
 "nbformat_minor": 4
}
